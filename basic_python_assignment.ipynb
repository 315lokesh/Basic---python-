{
  "nbformat": 4,
  "nbformat_minor": 0,
  "metadata": {
    "colab": {
      "provenance": []
    },
    "kernelspec": {
      "name": "python3",
      "display_name": "Python 3"
    },
    "language_info": {
      "name": "python"
    }
  },
  "cells": [
    {
      "cell_type": "markdown",
      "source": [
        "# Basic python assignment\n",
        "\n",
        "1.   List item\n",
        "2.   List item\n",
        "\n"
      ],
      "metadata": {
        "id": "gkeBFmmfos61"
      }
    },
    {
      "cell_type": "markdown",
      "source": [
        "**Question.1** What is Python, and why is it popular.?\n",
        "\n",
        "**Answer** :- The word python - isn't  it scary ? Does it bring the image of big reptile that we are refered to see either in jungle or zoo ? Well, it's time to change the image. Now on, you'll remember word python for its playfulness and pleasant productivity.\n",
        "\n",
        "- Python is a high-level, general-purpose programming language known for its readability and ease of use.\n",
        "    \n",
        "    **why it's popular?**\n",
        "\n",
        "    - Its popularity stems from its versatility, extensive libraries, and a large, supportive community.\n",
        "\n",
        "    **Readability and Simplicity**:  Python's syntax is designed to be clear and\n",
        "    Easy to understand.\n",
        "    \n",
        "    **Versatility** : Python can be used for a wide range of applications, from web development to data science, making it a valuable tool for developers and analysts.\n",
        "\n",
        "    **Extensive Libraries **: Python has a rich ecosystem of libraries and frameworks that simplify the development process and provide ready-made solutions for common tasks.\n",
        "\n",
        "    **Open Source** : Python is an open-source language, meaning it is free to use, distribute, and modify.\n",
        "\n",
        "    **Growing Demand** : Python's popularity is reflected in the increasing demand for Python developers in the job market.**bold text**\n",
        "\n",
        "\n",
        "\n",
        "     "
      ],
      "metadata": {
        "id": "9jF8coknp9_-"
      }
    },
    {
      "cell_type": "code",
      "source": [],
      "metadata": {
        "id": "jQT_CLliovDE"
      },
      "execution_count": null,
      "outputs": []
    },
    {
      "cell_type": "markdown",
      "source": [],
      "metadata": {
        "id": "BGcn_jPavPBW"
      }
    },
    {
      "cell_type": "markdown",
      "source": [
        "Question.2 :- What is an interpreter in python ?\n",
        "\n",
        "  Answer:- In Python, an interpreter is a program that executes code line by line, translating it into instructions the computer can understand and then running those instructions.\n",
        "\n",
        "  There are actually two way to execute python code one is in Interactive mode and another thing is having Python prompts which is also called script mode.\n",
        "\n",
        "- Python does not convert high level code into low level code\n",
        "     as many other programming languages do rather.\n",
        "\n",
        "- It will scan the entire code into something called bytecode.  \n",
        "    very time when Python developer runs the code and start to execute the compilation part execute first and then\n",
        "-  it generate an byte code which get converted by PVM Python Virtual machine that understand the analogy and give the desired output.\n",
        "\n",
        "- Interpreted Languages:- Perl, BASIC, Python, JavaScript, Ruby, PHP.\n",
        "Compiled Languages:-       C, C++, C#, COBOL and CLEO."
      ],
      "metadata": {
        "id": "4fef08yBwA2B"
      }
    },
    {
      "cell_type": "markdown",
      "source": [
        "**Question.3:-** What are pre-defined keywords in Python?\n",
        "\n",
        "  **Answer:-** Python that have specific, pre-defined meanings and purposes. These keywords cannot be used as identifiers (variable names, function names, etc.) as they are integral to the language's syntax and structure. As of the latest Python versions, there are 36 keywords. They include:\n",
        "\n",
        "- **List of Keywords in Python:-**\n",
        "    \n",
        "    Keyword:-\n",
        "\n",
        "**Description**\n",
        "\n",
        "**True** :- Represents the boolean value True.\n",
        "\n",
        "**False** :- Represents the boolean value false.\n",
        "\n",
        "**None** :- A special constant that represents a null value. 0 or empty list doesn’t compute None.\n",
        "\n",
        "**and** :- A logical operator that combines conditional statements and returns True if both the conditions are true; else returns False.\n",
        "\n",
        "**or** :- A logical operator that combines conditional statements and returns True if one condition is true.\n",
        "\n",
        "**not** :- A logical operator that inverts the truth value so it returns True if the condition is false.\n",
        "\n",
        "**is** :- Checks if two values are identical.\n",
        "\n",
        "**in** :- Checks if a value is present in a range, list, tuple, etc.\n",
        "\n",
        "**if** :- Makes a conditional statement.\n",
        "\n",
        "**else** :- A conditional statement used with if and elif conditional statements and executed if the given condition is not true.\n",
        "\n",
        "**elif** :- A conditional statement used with an if statement and executed when the previous condition is not true.\n",
        "\n",
        "**del** :- Deletes a reference to an object.\n",
        "\n",
        "**for** :- Creates a for loop.\n",
        "\n",
        "**while** :- Creates a while loop.\n",
        "\n",
        "**break** :- Terminates the current closest enclosing loop.\n",
        "\n",
        "**continue** :- Continues the next iteration of the current loop.\n",
        "\n",
        "**import** :- Imports a module.\n",
        "\n",
        "**from** :- Imports specific parts of a module.\n",
        "\n",
        "**def** :- Helps to define functions.\n",
        "\n",
        "**as** :- Creates an alias or alternative while importing a module.\n",
        "\n",
        "**with** :- Simplifies exception handling.\n",
        "\n",
        "**class** :- Defines a new user-defined class.\n",
        "\n",
        "**pass** :- A null statement, so it does nothing.\n",
        "\n",
        "**lambda** :- Defines an anonymous function.\n",
        "\n",
        "**try** :- Creates a try-except statement.\n",
        "\n",
        "**raise** :- Raises an exception.\n",
        "\n",
        "**except** :- Used with ‘try’ to catch exceptions.\n",
        "\n",
        "**finally** :- Used with exceptions and is executed always, whether there is an exception or not.\n",
        "\n",
        "**assert** :- Used for debugging purposes and checking if the code is correct.\n",
        "\n",
        "**return** :- Helps return a value and exit the function.\n",
        "\n",
        "**yield** :- Used to end a function and return a generator.\n",
        "\n",
        "**async** :- Creates asynchronous coroutine.\n",
        "\n",
        "**await** :- Releases the flow of control to the event loop.\n",
        "\n",
        "**global** :- Declares a global variable.\n",
        "\n",
        "**nonlocal** :- Declares a non-local variable.\n"
      ],
      "metadata": {
        "id": "UPsjYTvQy1MM"
      }
    },
    {
      "cell_type": "markdown",
      "source": [
        "**Question**.**4** :- Can keywords be used as variable name?\n",
        "\n",
        "  **Answer** :- No, keywords cannot be used as variable names in programming languages.\n",
        "  Keywords are reserved words with specific meanings within the language and are used for syntax and structure, not for naming user-defined variables.\n",
        "\n",
        "  Because the language would interpret it as part of its internal structure, not as a user-defined identifier.\n",
        "\n",
        "  they cannot be used as variable names. Programmers generally choose names for their variables that are meaningful to the human readers of the program to remember what the variable is used for."
      ],
      "metadata": {
        "id": "aGFao1AG4TQm"
      }
    },
    {
      "cell_type": "markdown",
      "source": [
        "**Question.5** :- What is mutability in python?\n",
        "\n",
        "  **Answer** :- Mutability in Python refers to the ability of an object to be modified after it is created. If an object can be changed, it is considered mutable; if it cannot, it is immutable.\n",
        "\n",
        "  Mutable types:- lists, dictionaries, and sets.\n"
      ],
      "metadata": {
        "id": "QVPf5W655bg-"
      }
    },
    {
      "cell_type": "markdown",
      "source": [
        "**Question.6** :- Why are lists mutable, but tuples are immutable.?\n",
        "\n",
        "  **Answer** :- we are understand why lists mutable, but tuples are immutable\n",
        "   \n",
        "   **lists are mutable** :- because you can change the order of items in a list or reassign an item in a list.\n",
        "\n",
        "   **Tuples immutable** :- these are the same in every way except two - tuples use parentheses instead of square brackets, and the items in tuples cannot be modified (but the items in lists can be modified). We often call lists mutable (meaning they can be changed) and tuples immutable (meaning they cannot be changed).\n",
        "  \n",
        "  \n"
      ],
      "metadata": {
        "id": "WVAmyy9J8kDr"
      }
    },
    {
      "cell_type": "markdown",
      "source": [
        "**Question.7** :- What is the difference between “==” and “is” operators in Python?\n",
        "\n",
        "**Answer**:- The == operator helps us compare the equality of objects.\n",
        "\n",
        "**We are discuss about:- operator.**\n",
        "\n",
        "  What is == Operator?\n",
        "\n",
        "We use the == operator in Python when the values of both the operands are equal. Thus, the condition would become true here.\n",
        "\n",
        "What is the ‘is’ Operator?\n",
        "\n",
        "An is operator would evaluate to true whenever the variables present on either side of an operator would point towards the very same object. Otherwise, it would give us a false evaluation.\n",
        "\n",
        "\n",
        "Let us take a look at an example to understand this better:\n",
        "\n",
        "list_4 = [‘m’, ‘n’, ‘o’]\n",
        "\n",
        "list_5 = list_4\n",
        "\n",
        "list_6 = list(list_4)\n",
        "\n",
        "print(list_4)\n",
        "\n",
        "print(list_5)\n",
        "\n",
        "print(list_6)\n",
        "\n",
        "The output here would be:\n",
        "\n",
        "[‘m’, ‘n’, ‘o’] [‘m’, ‘n’, ‘o’] [‘m’, ‘n’, ‘o’]\n",
        "In the example given above, you can see that these point towards lists that look identical. After this, we will check if these lists are equal. There is a difference between equal and identical here.\n",
        "\n",
        "print(list_4 == list_5)\n",
        "\n",
        "print(list_4 == list_6)\n",
        "\n",
        "The output of the code mentioned above would be:\n",
        "\n",
        "True\n",
        "\n",
        "True\n",
        "\n",
        "It would happen because the values of list_4, list_5 and list_6 are equal, and thus, the condition would become true.\n",
        "\n",
        "Now consider this code:\n",
        "\n",
        "print(list_4 is list_5)\n",
        "\n",
        "print(list_4 is list_6)\n",
        "\n",
        "The output of the code mentioned above would be:\n",
        "\n",
        "True\n",
        "\n",
        "False\n",
        "\n",
        "You can see here that the code (list_4 is list_6) is False, since list_4 and list_6 are pointing towards two separate objects even if they might have the same contents. Thus, we can conclude that “is” would return to be True when both the variables point towards the very same object and “==” would return to be True when the objects that are referred to by the available variables are equal"
      ],
      "metadata": {
        "id": "fj22vpHiArRk"
      }
    },
    {
      "cell_type": "markdown",
      "source": [
        "**Question.8**:- What are logical operators in Python?\n",
        "\n",
        "**Answer** :- Logical operators in Python are used to combine or modify boolean values (True or False). There are three main logical operators:\n",
        "\n",
        "**and**: Returns True if both operands are True, otherwise it returns False.\n",
        "\n",
        "**or**: Returns True if at least one operand is True, and returns False only if both operands are False.\n",
        "\n",
        "**not**: Returns the opposite boolean value of the operand. If the operand is True, it returns False, and vice versa.\n",
        "\n",
        "These operators are often used in conditional statements and loops to control the flow of a program based on multiple conditions.\n",
        "Python\n",
        "\n",
        "x = 5\n",
        "y = 10\n",
        "\n",
        "print(x > 0 and y < 15)  # Output: True (both conditions are true)\n",
        "\n",
        "print(x > 10 or y < 15) # Output: True (at least one condition is true)\n",
        "\n",
        "print(not(x > 10))      # Output: True (inverts the boolean value)\n",
        "\n"
      ],
      "metadata": {
        "id": "0fBNQDUYDJGE"
      }
    },
    {
      "cell_type": "markdown",
      "source": [
        "**Question**.**9** :-  what is type casting?\n",
        "\n",
        "**Answer** :- Type casting in Python, also known as type conversion, refers to the process of changing a variable's data type to another.\n",
        "\n",
        "It allows for flexibility in operations and data manipulation. Type casting can be implicit (automatic) or explicit (manual).\n",
        "\n",
        "Implicit type casting: Python automatically converts one data type to another without the programmer's intervention. This usually happens when converting a\n",
        "\n",
        "\"smaller\" data type to a \"larger\" one to prevent data loss."
      ],
      "metadata": {
        "id": "RnIe2KFHE2yZ"
      }
    },
    {
      "cell_type": "markdown",
      "source": [
        "**Question.10** :- What is the difference between implicit and explicit type casting.?\n",
        "\n",
        "**Answer** :- Implicit and explicit type casting, also known as type conversion, are mechanisms for converting a value from one data type to another.\n",
        "\n",
        "Implicit type casting happens automatically by the compiler, while explicit type casting requires the programmer to define the conversion using specific syntax.\n",
        "\n",
        "\n",
        "Implicit type casting (**wedding**)\n",
        "\n",
        "\n",
        "- **Definition**: Automatic conversion of a smaller data type to a larger one.\n",
        "\n",
        "- **Example**: Converting an integer (e.g., int) to a floating-point number (e.g., float).\n",
        "\n",
        "- **Purpose**: Ensures compatibility when a smaller data type is assigned to a larger one or when different data types are combined in an expression.  \n",
        "- **Safety**: Generally safe as it doesn't lead to loss of data.\n",
        "Explicit Type Casting (**Narrowing**):\n",
        "\n",
        "- **Definition**: Manual conversion of a larger data type to a smaller one.\n",
        "\n",
        "- **Example**: Converting a floating-point number to an integer.\n",
        "\n",
        "- **Purpose**: Provides control over the conversion process and can be used to prevent potential data loss or unexpected behavior.\n",
        "\n",
        "- **Syntax**: Typically requires a cast operator (e.g., (int)value).\n",
        "\n",
        "- **Safety**: Can lead to data loss or precision issues, especially when converting from a larger floating-point type to an integer.\n",
        "\n"
      ],
      "metadata": {
        "id": "xGi5HSH9GEEn"
      }
    },
    {
      "cell_type": "markdown",
      "source": [
        "**Question.11** :- What is the purpose of conditional statements in Python.?\n",
        "\n",
        "\n",
        "**Answer**:-  Conditional statements in Python enable programs to make decisions and execute different code blocks based on whether specific conditions are met. They control the flow of execution, allowing programs to respond dynamically to various situations.\n",
        "\n",
        " The primary conditional statements are **if**, **elif**, and **else**.\n",
        "\n",
        "\"**if**\" statement:\n",
        "\n",
        "This statement executes a block of code only if a specified condition is true.\n",
        "\n",
        "\"**elif**\" statement:\n",
        "\n",
        "Short for \"else if,\" this statement checks an additional condition if the preceding if or elif condition is false. It allows for multiple, sequential condition checks.\n",
        "\n",
        "\"**else**\" statement:\n",
        "\n",
        "This statement executes a block of code if all preceding **if** and **elif** conditions are **false**.\n",
        "\n",
        " It provides a default action when no other condition is met.\n",
        "\n",
        "Conditional statements can be nested, allowing for more complex decision-making structures. They are fundamental for creating flexible and adaptable programs that can handle a wide range of inputs and scenarios.\n",
        "Python\n",
        "\n",
        "age = 20\n",
        "\n",
        "**if** age >= 18:\n",
        "\n",
        "    print(\"Eligible to vote.\")\n",
        "\n",
        "**else**:\n",
        "    print(\"Not eligible to vote yet.\")\n",
        "\n"
      ],
      "metadata": {
        "id": "Fk6g_rAIIZCG"
      }
    },
    {
      "cell_type": "markdown",
      "source": [
        "Question.12 :-   How does the elif statement work.?\n",
        "\n",
        "Answer:- The “elif” keyword in Python, stands for “else if”. It can be used in conditional statements to check for multiple conditions.\n",
        "\n",
        " For example, if the first condition is false, it moves on to the next “elif” statement to check if that condition is true. If none of the conditions are true, the code will execute the else statement.\n",
        "\n",
        " We better understand abou the example:-\n",
        "\n",
        "\n",
        "x = 10\n",
        "\n",
        "if x > 15:\n",
        "    print(\"x is greater than 15\")\n",
        "\n",
        "elif x > 10:\n",
        "\n",
        "    print(\"x is greater than 10 but not greater than 15\")\n",
        "\n",
        "elif x == 10:\n",
        "\n",
        "    print(\"x is equal to 10\")\n",
        "\n",
        "else:\n",
        "    print(\"x is less than 10\")\n",
        "\n",
        "\n",
        "\n",
        "In this example, the first condition x > 15 is false,\n",
        "\n",
        " so the code moves to the first elif condition x > 10,\n",
        " which is also false. Then,\n",
        "\n",
        " the code checks the second elif condition x == 10, which is true,\n",
        "  so the code inside this block is executed,\n",
        "  \n",
        "   and the output will be \"x is equal to 10\". The remaining elif and else blocks are skipped.\n",
        "\n"
      ],
      "metadata": {
        "id": "kJUZ7Gh4J4WC"
      }
    },
    {
      "cell_type": "markdown",
      "source": [
        "**Question** **13**: What is the difference between for and while loops?\n",
        "\n",
        "**Answer**:- The iteration statement or repetition statements allow a set of\n",
        "           instructions to be performed repeatedly until a certain condition is fulfilled. The iteraton statement are also called a loops.\n",
        "            \n",
        "  Python provides two kinds of loops:-\n",
        "  - For loop\n",
        "  - While loop\n",
        "\n",
        "   The for loop of Python is designed to process the items of any sequence.\n",
        "\n",
        "   For example, consider the following loops:\n",
        "\n",
        "   For a in [1,4,7]:\n",
        "    print(a)\n",
        "    print(a*a)\n",
        "\n",
        "- The loop variable is assigned the first value in the sequence.\n",
        "- All the statement in the body of for loop are executed with assigned value\n",
        "  loop variable.\n",
        "- this is continue intil all value in the sequence are processed.\n",
        "\n",
        "While loop:-\n",
        "\n",
        "A while loop is a conditional loop that will repeat the instruction with in itself as long as a conditional remain true. (boolen true or truth value true).\n",
        "\n",
        "expression:-\n",
        "\n",
        "  a = 5\n",
        "\n",
        "  whilea>0:\n",
        "\n",
        "    print(\"hello\"a)\n",
        "    a=a-3\n",
        "    \n",
        "**Difference between both loops:-**\n",
        "\n",
        "\n",
        " The primary difference between for and while loops lies in when the number of iterations is known beforehand. for loops are best suited for situations where you know exactly how many times the loop will execute, often when iterating over a collection or sequence. while loops, on the other hand, are more flexible and used when the number of iterations is unknown and depends on a dynamic condition.  \n",
        "\n",
        " For Loops:-\n",
        "\n",
        "**Known Iterations:**\n",
        "\n",
        "The number of times the loop will run is determined before the loop starts.\n",
        "\n",
        "**Iterating over collections:-** Commonly used to traverse elements in a list, array, or other data structures.\n",
        "**Example:**\n",
        "\n",
        "Printing numbers from 1 to 10.\n",
        "\n",
        "**Structure**:- Typically involves an initialization, a condition, and an update statement within the loop header.  \n",
        "\n",
        "**While loops:- **\n",
        "\n",
        "\n",
        "**Unknown Iterations:**:-The number of iterations depends on a condition that can change during the loop's execution.\n",
        "\n",
        "**Dynamic Conditions:**:-Ideal when the loop should continue until a specific event happens, or a variable reaches a certain state.\n",
        "\n",
        "**Example:**:-Reading input from a user until a specific keyword is entered\n",
        "\n",
        "**Structure:**:-Includes a condition that must be true for the loop to continue, and the condition is checked before each iteration."
      ],
      "metadata": {
        "id": "Lx9JDycHVD1e"
      }
    },
    {
      "cell_type": "markdown",
      "source": [
        "**Question** **14**:-  Describe a scenario where a while loop is more suitable than a for loop.\n",
        "\n",
        "Answer:- In programming, for loops are best used when you know the number of iterations ahead of time, whereas a while loop is best used when you don't know the number of iterations in advance. Both methods can help you iterate through your code.\n",
        "\n",
        "In contrast to a 'for' loop, which is generally used when the number of iterations is known beforehand, a 'while' loop is ideal for situations where the number of iterations is not predetermined and depends on some dynamic condition.\n",
        "\n",
        "for example:-\n",
        "\n",
        "# for example :-\n",
        "while True:  # Loop indefinitely until a valid input is entered\n",
        "\n",
        "    try:\n",
        "        number = int(input(\"Enter a number between 1 and 10: \"))\n",
        "        if 1 <= number <= 10:\n",
        "            print(f\"You entered: {number}\")\n",
        "            break  # Exit the loop when a valid number is entered\n",
        "        else:\n",
        "            print(\"Invalid input. Please enter a number between 1 and 10.\")\n",
        "    except ValueError:\n",
        "        print(\"Invalid input. Please enter a valid number.\")"
      ],
      "metadata": {
        "id": "r9lPjUcSdkgz"
      }
    },
    {
      "cell_type": "code",
      "source": [
        "#question.1\n",
        "\n",
        "print(\"Hello, World!\")"
      ],
      "metadata": {
        "colab": {
          "base_uri": "https://localhost:8080/"
        },
        "id": "gllHt5R5Yk5E",
        "outputId": "c3877faa-6737-42ca-be60-451bf430cc11"
      },
      "execution_count": null,
      "outputs": [
        {
          "output_type": "stream",
          "name": "stdout",
          "text": [
            "Hello, World!\n"
          ]
        }
      ]
    },
    {
      "cell_type": "code",
      "source": [
        "#question.2\n",
        "\n",
        "name = \"lokesh\"\n",
        "age = 24\n",
        "print(name)\n",
        "print(age)"
      ],
      "metadata": {
        "colab": {
          "base_uri": "https://localhost:8080/"
        },
        "id": "2LpHdxtVgsre",
        "outputId": "99a1fcc6-fd51-4189-ab44-4a64fe77ae3c"
      },
      "execution_count": null,
      "outputs": [
        {
          "output_type": "stream",
          "name": "stdout",
          "text": [
            "lokesh\n",
            "24\n"
          ]
        }
      ]
    },
    {
      "cell_type": "code",
      "source": [
        "#question.3\n",
        "\n",
        "import keyword\n",
        "\n",
        "# printing all keywords at once using \"kwlist()\"\n",
        "print(\"The list of keywords is : \")\n",
        "print(keyword.kwlist)"
      ],
      "metadata": {
        "colab": {
          "base_uri": "https://localhost:8080/"
        },
        "id": "aZL9LnCnf65M",
        "outputId": "7f9f9de1-c507-4b30-e208-752932c97a89"
      },
      "execution_count": null,
      "outputs": [
        {
          "output_type": "stream",
          "name": "stdout",
          "text": [
            "The list of keywords is : \n",
            "['False', 'None', 'True', 'and', 'as', 'assert', 'async', 'await', 'break', 'class', 'continue', 'def', 'del', 'elif', 'else', 'except', 'finally', 'for', 'from', 'global', 'if', 'import', 'in', 'is', 'lambda', 'nonlocal', 'not', 'or', 'pass', 'raise', 'return', 'try', 'while', 'with', 'yield']\n"
          ]
        }
      ]
    },
    {
      "cell_type": "code",
      "source": [
        "#question. 4\n",
        "\n",
        "#checks if a given word is a Python keyword.\n",
        "from re import escape\n",
        "#import keywords\n",
        "s=input('enter any word')\n",
        "if keyword.iskeyword(s):\n",
        "  print('your entered word is keyword in python')\n",
        "else:\n",
        "  print('your entered word is not keyword in python')\n"
      ],
      "metadata": {
        "id": "dnVYgSoAjxJQ"
      },
      "execution_count": null,
      "outputs": []
    },
    {
      "cell_type": "code",
      "source": [
        "#question. 5\n",
        "\n",
        "# Create a list\n",
        "my_list = [1, 2, 3]\n",
        "print(\"Original list:\", my_list)\n",
        "\n",
        "# Modify an element in the list\n",
        "my_list[1] = 10\n",
        "print(\"Modified list:\", my_list)\n",
        "\n",
        "# Create a tuple\n",
        "my_tuple = (4, 5, 6)\n",
        "print(\"Original tuple:\", my_tuple)\n",
        "\n",
        "# Attempt to modify an element in the tuple (this will cause an error)\n",
        "try:\n",
        "    my_tuple[1] = 20\n",
        "except TypeError as e:\n",
        "    print(\"Error:\", e)"
      ],
      "metadata": {
        "id": "pcQIhlZpnBI_"
      },
      "execution_count": null,
      "outputs": []
    },
    {
      "cell_type": "markdown",
      "source": [],
      "metadata": {
        "id": "0yEeBBJVUh5F"
      }
    },
    {
      "cell_type": "code",
      "source": [
        "#question. 6\n",
        "\n",
        "#The behavior of mutable and immutable arguments\n",
        "\n",
        "def modify_argument(arg1, arg2):\n",
        "  \"\"\"\n",
        "    Demonstrates the behavior of mutable and immutable arguments in Python.\n",
        "\n",
        "    Args:\n",
        "        arg1: A mutable argument (list).\n",
        "        arg2: An immutable argument (integer).\n",
        "  \"\"\"\n",
        "  print(f\"Initial values: arg1 = {arg1}, arg2 = {arg2}\")\n",
        "\n",
        "  arg1.append(4)\n",
        "  arg2 += 1\n",
        "\n",
        "  print(f\"Modified values: arg1 = {arg1}, arg2 = {arg2}\")\n",
        "\n",
        "\n",
        "my_list = [1, 2, 3]\n",
        "my_int = 10\n",
        "\n",
        "modify_argument(my_list, my_int)\n",
        "\n",
        "print(f\"Outside the function: my_list = {my_list}, my_int = {my_int}\")"
      ],
      "metadata": {
        "colab": {
          "base_uri": "https://localhost:8080/"
        },
        "id": "wVLNhkdWsrXh",
        "outputId": "4e7a1c6b-e8b5-4cd2-8192-0fc342818585"
      },
      "execution_count": 13,
      "outputs": [
        {
          "output_type": "stream",
          "name": "stdout",
          "text": [
            "Initial values: arg1 = [1, 2, 3], arg2 = 10\n",
            "Modified values: arg1 = [1, 2, 3, 4], arg2 = 11\n",
            "Outside the function: my_list = [1, 2, 3, 4], my_int = 10\n"
          ]
        }
      ]
    },
    {
      "cell_type": "code",
      "source": [],
      "metadata": {
        "id": "4mCoBJIR117y"
      },
      "execution_count": null,
      "outputs": []
    },
    {
      "cell_type": "markdown",
      "source": [],
      "metadata": {
        "id": "q_YHNMpHLfF9"
      }
    },
    {
      "cell_type": "code",
      "source": [
        "#question. 7\n",
        "\n",
        "# Basic Arithmetic Operations Program\n",
        "\n",
        "# Get input from the user\n",
        "num1 = float(input(\"Enter the first number: \"))\n",
        "num2 = float(input(\"Enter the second number: \"))\n",
        "\n",
        "# Display operations\n",
        "print(\"\\nSelect the operation to perform:\")\n",
        "print(\"1. Addition\")\n",
        "print(\"2. Subtraction\")\n",
        "print(\"3. Multiplication\")\n",
        "print(\"4. Division\")\n",
        "\n",
        "# Get user choice\n",
        "choice = input(\"Enter choice (1/2/3/4): \")\n",
        "\n",
        "# Perform operation based on user choice\n",
        "if choice == '1':\n",
        "    result = num1 + num2\n",
        "    print(f\"Result: {num1} + {num2} = {result}\")\n",
        "elif choice == '2':\n",
        "    result = num1 - num2\n",
        "    print(f\"Result: {num1} - {num2} = {result}\")\n",
        "elif choice == '3':\n",
        "    result = num1 * num2\n",
        "    print(f\"Result: {num1} * {num2} = {result}\")\n",
        "elif choice == '4':\n",
        "    if num2 != 0:\n",
        "        result = num1 / num2\n",
        "        print(f\"Result: {num1} / {num2} = {result}\")\n",
        "    else:\n",
        "        print(\"Error: Division by zero is not allowed.\")\n",
        "else:\n",
        "    print(\"Invalid input. Please choose a number between 1 and 4.\")\n"
      ],
      "metadata": {
        "id": "ga3DLqf013Bt"
      },
      "execution_count": null,
      "outputs": []
    },
    {
      "cell_type": "markdown",
      "source": [],
      "metadata": {
        "id": "MdKSQj1VEiJZ"
      }
    },
    {
      "cell_type": "code",
      "source": [
        "#question .8\n",
        "\n",
        "# Logical Operators Demonstration Program\n",
        "\n",
        "# Get input from the user\n",
        "age = int(input(\"Enter your age: \"))\n",
        "has_id = input(\"Do you have a valid ID? (yes/no): \").lower()\n",
        "\n",
        "# Convert ID response to boolean\n",
        "has_valid_id = has_id == \"yes\"\n",
        "\n",
        "# Demonstrate 'and' operator\n",
        "if age >= 18 and has_valid_id:\n",
        "    print(\"You are allowed to enter.\")\n",
        "else:\n",
        "    print(\"You are not allowed to enter.\")\n",
        "\n",
        "# Demonstrate 'or' operator\n",
        "if age >= 18 or has_valid_id:\n",
        "    print(\"You meet at least one of the conditions.\")\n",
        "\n",
        "# Demonstrate 'not' operator\n",
        "if not has_valid_id:\n",
        "    print(\"You do not have a valid ID.\")\n"
      ],
      "metadata": {
        "id": "IJfYZkOlujoe"
      },
      "execution_count": null,
      "outputs": []
    },
    {
      "cell_type": "code",
      "source": [
        "#question .9\n",
        "\n",
        "# Type Conversion Program\n",
        "\n",
        "# Get user input as a string\n",
        "user_input = input(\"Enter a value: \")\n",
        "\n",
        "# Convert to integer\n",
        "try:\n",
        "    int_value = int(user_input)\n",
        "    print(f\"Integer value: {int_value}\")\n",
        "except ValueError:\n",
        "    print(\"Cannot convert to integer.\")\n",
        "\n",
        "# Convert to float\n",
        "try:\n",
        "    float_value = float(user_input)\n",
        "    print(f\"Float value: {float_value}\")\n",
        "except ValueError:\n",
        "    print(\"Cannot convert to float.\")\n",
        "\n",
        "# Convert to boolean\n",
        "bool_value = bool(user_input)  # Empty strings are False, non-empty are True\n",
        "print(f\"Boolean value: {bool_value}\")\n"
      ],
      "metadata": {
        "id": "0Doj_0m_14Kn"
      },
      "execution_count": null,
      "outputs": []
    },
    {
      "cell_type": "markdown",
      "source": [],
      "metadata": {
        "id": "OYMekh2JAUG-"
      }
    },
    {
      "cell_type": "code",
      "source": [
        "#question.10\n",
        "\n",
        "# Type Casting with List Elements\n",
        "\n",
        "# List of strings representing numbers\n",
        "str_list = [\"10\", \"20\", \"30\", \"40.5\", \"True\", \"False\", \"hello\"]\n",
        "\n",
        "# Convert to integers where possible\n",
        "int_list = []\n",
        "for item in str_list:\n",
        "    try:\n",
        "        int_list.append(int(float(item)))  # Use float first to handle \"40.5\"\n",
        "    except ValueError:\n",
        "        int_list.append(None)  # Add None if conversion fails\n",
        "\n",
        "print(\"Converted to integers (where possible):\", int_list)\n",
        "\n",
        "# Convert to floats\n",
        "float_list = []\n",
        "for item in str_list:\n",
        "    try:\n",
        "        float_list.append(float(item))\n",
        "    except ValueError:\n",
        "        float_list.append(None)\n",
        "\n",
        "print(\"Converted to floats (where possible):\", float_list)\n",
        "\n",
        "# Convert to booleans\n",
        "bool_list = [bool(item) for item in str_list]  # Non-empty strings are True\n",
        "print(\"Converted to booleans:\", bool_list)\n"
      ],
      "metadata": {
        "id": "xEIpvRSD148b"
      },
      "execution_count": null,
      "outputs": []
    },
    {
      "cell_type": "code",
      "source": [
        "#question. 11\n",
        "\n",
        "# Program to check if a number is positive, negative, or zero\n",
        "\n",
        "# Get user input and convert to float\n",
        "number = float(input(\"Enter a number: \"))\n",
        "\n",
        "# Check the number\n",
        "if number > 0:\n",
        "    print(\"The number is positive.\")\n",
        "elif number < 0:\n",
        "    print(\"The number is negative.\")\n",
        "else:\n",
        "    print(\"The number is zero.\")\n"
      ],
      "metadata": {
        "id": "LnzCNv4tvfIQ"
      },
      "execution_count": null,
      "outputs": []
    },
    {
      "cell_type": "code",
      "source": [
        "#question .12\n",
        "\n",
        "# Print numbers from 1 to 10 using a for loop\n",
        "\n",
        "for i in range(1, 11):\n",
        "    print(i)\n"
      ],
      "metadata": {
        "id": "uatOQmgsvqsf"
      },
      "execution_count": null,
      "outputs": []
    },
    {
      "cell_type": "code",
      "source": [
        "#question .13\n",
        "\n",
        "# Program to find the sum of all even numbers between 1 and 50\n",
        "\n",
        "even_sum = 0\n",
        "\n",
        "for number in range(2, 51, 2):\n",
        "\n",
        "# Start at 2, go up to 50, step by 2\n",
        "    even_sum += number\n",
        "\n",
        "print(\"Sum of all even numbers from 1 to 50 is:\", even_sum)\n"
      ],
      "metadata": {
        "id": "UheU5cCUv5W6"
      },
      "execution_count": null,
      "outputs": []
    },
    {
      "cell_type": "code",
      "source": [
        "#question .14\n",
        "\n",
        "# Program to reverse a string using a while loop\n",
        "\n",
        "# Get input from the user\n",
        "original_str = input(\"Enter a string: \")\n",
        "\n",
        "# Initialize variables\n",
        "reversed_str = \"\"\n",
        "index = len(original_str) - 1\n",
        "\n",
        "# Loop to reverse the string\n",
        "while index >= 0:\n",
        "    reversed_str += original_str[index]\n",
        "    index -= 1\n",
        "\n",
        "print(\"Reversed string:\", reversed_str)\n"
      ],
      "metadata": {
        "id": "H19BHAZ3wKOA"
      },
      "execution_count": null,
      "outputs": []
    },
    {
      "cell_type": "code",
      "source": [
        "#question .15\n",
        "\n",
        "# Program to calculate the factorial of a number using a while loop\n",
        "\n",
        "# Get input from the user\n",
        "num = int(input(\"Enter a non-negative integer: \"))\n",
        "\n",
        "# Validate input\n",
        "if num < 0:\n",
        "    print(\"Factorial is not defined for negative numbers.\")\n",
        "else:\n",
        "    factorial = 1\n",
        "    i = 1\n",
        "\n",
        "    while i <= num:\n",
        "        factorial *= i\n",
        "        i += 1\n",
        "\n",
        "    print(f\"The factorial of {num} is: {factorial}\")\n"
      ],
      "metadata": {
        "id": "Ij1_-gM9wUCf"
      },
      "execution_count": null,
      "outputs": []
    },
    {
      "cell_type": "markdown",
      "source": [],
      "metadata": {
        "id": "j4or6YzA-4H5"
      }
    },
    {
      "cell_type": "markdown",
      "source": [],
      "metadata": {
        "id": "IQjIhv1CwGkC"
      }
    },
    {
      "cell_type": "markdown",
      "source": [],
      "metadata": {
        "id": "I3LeY5YOvqTd"
      }
    },
    {
      "cell_type": "markdown",
      "source": [],
      "metadata": {
        "id": "AuppRUXuu6ax"
      }
    }
  ]
}